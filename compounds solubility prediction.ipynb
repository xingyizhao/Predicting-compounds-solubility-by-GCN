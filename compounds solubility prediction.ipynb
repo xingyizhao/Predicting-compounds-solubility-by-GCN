{
  "nbformat": 4,
  "nbformat_minor": 0,
  "metadata": {
    "colab": {
      "provenance": []
    },
    "kernelspec": {
      "name": "python3",
      "display_name": "Python 3"
    },
    "language_info": {
      "name": "python"
    }
  },
  "cells": [
    {
      "cell_type": "markdown",
      "source": [
        "# Final project of CS6840"
      ],
      "metadata": {
        "id": "-bVRcB_lx7k-"
      }
    },
    {
      "cell_type": "markdown",
      "source": [
        "## Install some basic library"
      ],
      "metadata": {
        "id": "2MrWS8ppyCYC"
      }
    },
    {
      "cell_type": "code",
      "execution_count": 88,
      "metadata": {
        "colab": {
          "base_uri": "https://localhost:8080/"
        },
        "id": "UOzOhbUNmTpb",
        "outputId": "6d932921-5227-4d08-8611-4fb27e10eae8"
      },
      "outputs": [
        {
          "output_type": "stream",
          "name": "stdout",
          "text": [
            "\u001b[33mWARNING: Running pip as the 'root' user can result in broken permissions and conflicting behaviour with the system package manager. It is recommended to use a virtual environment instead: https://pip.pypa.io/warnings/venv\u001b[0m\u001b[33m\n",
            "\u001b[0m✨🍰✨ Everything looks OK!\n"
          ]
        }
      ],
      "source": [
        "!pip install -q condacolab\n",
        "import condacolab\n",
        "condacolab.install()"
      ]
    },
    {
      "cell_type": "code",
      "source": [
        "!mamba install -c conda-forge rdkit\n",
        "!pip install torch-geometric"
      ],
      "metadata": {
        "id": "PnFUdGkLnjl5"
      },
      "execution_count": null,
      "outputs": []
    },
    {
      "cell_type": "code",
      "source": [
        "import torch\n",
        "pytorch_version = f\"torch-{torch.__version__}.html\"\n",
        "!pip install --no-index torch-scatter -f https://pytorch-geometric.com/whl/$pytorch_version\n",
        "!pip install --no-index torch-sparse -f https://pytorch-geometric.com/whl/$pytorch_version\n",
        "!pip install --no-index torch-cluster -f https://pytorch-geometric.com/whl/$pytorch_version\n",
        "!pip install --no-index torch-spline-conv -f https://pytorch-geometric.com/whl/$pytorch_version\n",
        "!pip install torch-geometric\n",
        "\n",
        "import rdkit\n",
        "import statistics \n",
        "import math\n",
        "from torch_geometric.datasets import MoleculeNet"
      ],
      "metadata": {
        "id": "D7vohfRaqGAX"
      },
      "execution_count": null,
      "outputs": []
    },
    {
      "cell_type": "markdown",
      "source": [
        "## Download ESOL dataset and explore the dataset"
      ],
      "metadata": {
        "id": "O8UtY7Qnylzy"
      }
    },
    {
      "cell_type": "code",
      "source": [
        "# Load the ESOL dataset\n",
        "data = MoleculeNet(root=\".\", name=\"ESOL\")"
      ],
      "metadata": {
        "id": "ySjrG8-boZ9w"
      },
      "execution_count": 91,
      "outputs": []
    },
    {
      "cell_type": "code",
      "source": [
        "# Investigating the dataset\n",
        "print(\"Dataset type: \", type(data))\n",
        "print(\"Dataset features: \", data.num_features)\n",
        "print(\"Dataset target: \", data.num_classes)\n",
        "print(\"Dataset length: \", data.len)\n",
        "print(\"Dataset sample: \", data[0])\n",
        "print(\"Sample  nodes: \", data[0].num_nodes)\n",
        "print(\"Sample  edges: \", data[0].num_edges)"
      ],
      "metadata": {
        "colab": {
          "base_uri": "https://localhost:8080/"
        },
        "id": "qeaMczRvqvpI",
        "outputId": "f7c42a77-2e4e-4f5a-efc6-b0fd0500fc51"
      },
      "execution_count": 92,
      "outputs": [
        {
          "output_type": "stream",
          "name": "stdout",
          "text": [
            "Dataset type:  <class 'torch_geometric.datasets.molecule_net.MoleculeNet'>\n",
            "Dataset features:  9\n",
            "Dataset target:  734\n",
            "Dataset length:  <bound method InMemoryDataset.len of ESOL(1128)>\n",
            "Dataset sample:  Data(x=[32, 9], edge_index=[2, 68], edge_attr=[68, 3], smiles='OCC3OC(OCC2OC(OC(C#N)c1ccccc1)C(O)C(O)C2O)C(O)C(O)C3O ', y=[1, 1])\n",
            "Sample  nodes:  32\n",
            "Sample  edges:  68\n"
          ]
        }
      ]
    },
    {
      "cell_type": "code",
      "source": [
        "# Explore the molecular structure\n",
        "from rdkit import Chem\n",
        "from rdkit.Chem.Draw import IPythonConsole\n",
        "molecule = Chem.MolFromSmiles(data[4][\"smiles\"])\n",
        "molecule"
      ],
      "metadata": {
        "colab": {
          "base_uri": "https://localhost:8080/",
          "height": 167
        },
        "id": "2NUn4ko5rKMo",
        "outputId": "876bea7e-23ed-48ba-eb3f-b14e5f97ea6c"
      },
      "execution_count": 93,
      "outputs": [
        {
          "output_type": "execute_result",
          "data": {
            "text/plain": [
              "<rdkit.Chem.rdchem.Mol at 0x7f4cdf4bb0b0>"
            ],
            "image/png": "[encoded data removed]"
          },
          "metadata": {},
          "execution_count": 93
        }
      ]
    },
    {
      "cell_type": "markdown",
      "source": [
        "## Define GNN"
      ],
      "metadata": {
        "id": "FhHFGCSFy0Jh"
      }
    },
    {
      "cell_type": "code",
      "source": [
        "import torch\n",
        "from torch.nn import Linear\n",
        "import torch.nn.functional as F \n",
        "from torch_geometric.nn import GCNConv, TopKPooling, global_mean_pool\n",
        "from torch_geometric.nn import global_mean_pool as gap, global_max_pool as gmp\n",
        "embedding_size = 64\n",
        "\n",
        "class GCN(torch.nn.Module):\n",
        "    def __init__(self):\n",
        "        # Init parent\n",
        "        super(GCN, self).__init__()\n",
        "        torch.manual_seed(42)\n",
        "\n",
        "        # GCN layers\n",
        "        self.initial_conv = GCNConv(data.num_features, embedding_size)\n",
        "        self.conv1 = GCNConv(embedding_size, embedding_size)\n",
        "        self.conv2 = GCNConv(embedding_size, embedding_size)\n",
        "        self.conv3 = GCNConv(embedding_size, embedding_size)\n",
        "\n",
        "        # Output layer\n",
        "        self.out = Linear(embedding_size*2, 1)\n",
        "\n",
        "    def forward(self, x, edge_index, batch_index):\n",
        "        # First Conv layer\n",
        "        hidden = self.initial_conv(x, edge_index)\n",
        "        hidden = F.tanh(hidden)\n",
        "\n",
        "        # Other Conv layers\n",
        "        hidden = self.conv1(hidden, edge_index)\n",
        "        hidden = F.tanh(hidden)\n",
        "        hidden = self.conv2(hidden, edge_index)\n",
        "        hidden = F.tanh(hidden)\n",
        "        hidden = self.conv3(hidden, edge_index)\n",
        "        hidden = F.tanh(hidden)\n",
        "          \n",
        "        # Global Pooling (stack different aggregations)\n",
        "        hidden = torch.cat([gmp(hidden, batch_index), \n",
        "                            gap(hidden, batch_index)], dim=1)\n",
        "\n",
        "        # Apply a final (linear) classifier.\n",
        "        out = self.out(hidden)\n",
        "\n",
        "        return out, hidden\n",
        "\n",
        "model = GCN()\n",
        "print(model)\n",
        "print(\"Number of parameters: \", sum(p.numel() for p in model.parameters()))"
      ],
      "metadata": {
        "colab": {
          "base_uri": "https://localhost:8080/"
        },
        "id": "Rxlw-LCcraFK",
        "outputId": "cd08b90e-a6ee-448e-a715-a5336f221c60"
      },
      "execution_count": 94,
      "outputs": [
        {
          "output_type": "stream",
          "name": "stdout",
          "text": [
            "GCN(\n",
            "  (initial_conv): GCNConv(9, 64)\n",
            "  (conv1): GCNConv(64, 64)\n",
            "  (conv2): GCNConv(64, 64)\n",
            "  (conv3): GCNConv(64, 64)\n",
            "  (out): Linear(in_features=128, out_features=1, bias=True)\n",
            ")\n",
            "Number of parameters:  13249\n"
          ]
        }
      ]
    },
    {
      "cell_type": "markdown",
      "source": [
        "## Training "
      ],
      "metadata": {
        "id": "OkFEn2Y-y5Py"
      }
    },
    {
      "cell_type": "code",
      "source": [
        "from torch_geometric.data import DataLoader\n",
        "import warnings\n",
        "warnings.filterwarnings(\"ignore\")\n",
        "\n",
        "# Root mean squared error\n",
        "loss_fn = torch.nn.MSELoss()\n",
        "optimizer = torch.optim.Adam(model.parameters(), lr=0.0007)  \n",
        "\n",
        "# Use GPU for training\n",
        "device = torch.device(\"cuda:0\" if torch.cuda.is_available() else \"cpu\")\n",
        "model = model.to(device)\n",
        "\n",
        "# Wrap data in a data loader\n",
        "data_size = len(data)\n",
        "NUM_GRAPHS_PER_BATCH = 64\n",
        "loader = DataLoader(data[:int(data_size * 0.8)], \n",
        "                    batch_size=NUM_GRAPHS_PER_BATCH, shuffle=True)\n",
        "test_loader = DataLoader(data[int(data_size * 0.8):], \n",
        "                         batch_size=256, shuffle=True)\n",
        "\n",
        "def train(data):\n",
        "    # Enumerate over the data\n",
        "    for batch in loader:\n",
        "      # Use GPU\n",
        "      batch.to(device)  \n",
        "      # Reset gradients\n",
        "      optimizer.zero_grad() \n",
        "      # Passing the node features and the connection info\n",
        "      pred, embedding = model(batch.x.float(), batch.edge_index, batch.batch) \n",
        "      # Calculating the loss and gradients\n",
        "      loss = loss_fn(pred, batch.y)     \n",
        "      loss.backward()  \n",
        "      # Update using the gradients\n",
        "      optimizer.step()   \n",
        "    return loss, embedding\n",
        "\n",
        "print(\"Starting training...\")\n",
        "losses = []\n",
        "for epoch in range(2000):\n",
        "    loss, h = train(data)\n",
        "    losses.append(loss)\n",
        "    if epoch % 100 == 0:\n",
        "      print(f\"Epoch {epoch} | Train Loss {loss}\")"
      ],
      "metadata": {
        "colab": {
          "base_uri": "https://localhost:8080/"
        },
        "id": "y7ogAuo0reuq",
        "outputId": "638ed110-0408-4294-f61d-a700e624b157"
      },
      "execution_count": 95,
      "outputs": [
        {
          "output_type": "stream",
          "name": "stdout",
          "text": [
            "Starting training...\n",
            "Epoch 0 | Train Loss 11.665949821472168\n",
            "Epoch 100 | Train Loss 0.8540144562721252\n",
            "Epoch 200 | Train Loss 1.1124600172042847\n",
            "Epoch 300 | Train Loss 0.32616838812828064\n",
            "Epoch 400 | Train Loss 0.23733144998550415\n",
            "Epoch 500 | Train Loss 0.38460591435432434\n",
            "Epoch 600 | Train Loss 0.21460913121700287\n",
            "Epoch 700 | Train Loss 0.07613381743431091\n",
            "Epoch 800 | Train Loss 0.16954778134822845\n",
            "Epoch 900 | Train Loss 0.1719018965959549\n",
            "Epoch 1000 | Train Loss 0.04264683648943901\n",
            "Epoch 1100 | Train Loss 0.06374474614858627\n",
            "Epoch 1200 | Train Loss 0.11927658319473267\n",
            "Epoch 1300 | Train Loss 0.05650372430682182\n",
            "Epoch 1400 | Train Loss 0.0292583629488945\n",
            "Epoch 1500 | Train Loss 0.06205352768301964\n",
            "Epoch 1600 | Train Loss 0.032278869301080704\n",
            "Epoch 1700 | Train Loss 0.016336504369974136\n",
            "Epoch 1800 | Train Loss 0.04432741925120354\n",
            "Epoch 1900 | Train Loss 0.0358462929725647\n"
          ]
        }
      ]
    },
    {
      "cell_type": "code",
      "source": [
        "# Visualize learning (training loss)\n",
        "import seaborn as sns\n",
        "losses_float = [float(loss.cpu().detach().numpy()) for loss in losses] \n",
        "loss_indices = [i for i,l in enumerate(losses_float)] \n",
        "plt = sns.lineplot(loss_indices, losses_float)\n",
        "plt"
      ],
      "metadata": {
        "colab": {
          "base_uri": "https://localhost:8080/",
          "height": 282
        },
        "id": "ZKKiUmwKuhOw",
        "outputId": "97377064-f29b-4387-817b-1956019e6341"
      },
      "execution_count": 96,
      "outputs": [
        {
          "output_type": "execute_result",
          "data": {
            "text/plain": [
              "<matplotlib.axes._subplots.AxesSubplot at 0x7f4cdf40db50>"
            ]
          },
          "metadata": {},
          "execution_count": 96
        },
        {
          "output_type": "display_data",
          "data": {
            "text/plain": [
              "<Figure size 432x288 with 1 Axes>"
            ],
            "image/png": "[encoded data removed]"
          },
          "metadata": {
            "needs_background": "light"
          }
        }
      ]
    },
    {
      "cell_type": "code",
      "source": [
        "import pandas as pd \n",
        "\n",
        "test_loader = DataLoader(data[int(data_size * 0.8):], \n",
        "                         batch_size=256, shuffle=False)\n",
        "\n",
        "# Analyze the results for the whole testing dataset\n",
        "test_batch = next(iter(test_loader))\n",
        "with torch.no_grad():\n",
        "    test_batch.to(device)\n",
        "    pred, embed = model(test_batch.x.float(), test_batch.edge_index, test_batch.batch) \n",
        "    df = pd.DataFrame()\n",
        "    df[\"y_real\"] = test_batch.y.tolist()\n",
        "    df[\"y_pred\"] = pred.tolist()\n",
        "df[\"y_real\"] = df[\"y_real\"].apply(lambda row: row[0])\n",
        "df[\"y_pred\"] = df[\"y_pred\"].apply(lambda row: row[0])\n",
        "\n",
        "plt = sns.scatterplot(data=df, x=\"y_real\", y=\"y_pred\")\n",
        "plt.set(xlim=(-7, 2))\n",
        "plt.set(ylim=(-7, 2))\n",
        "plt"
      ],
      "metadata": {
        "id": "XP6q7B5CuwcX",
        "outputId": "b2ac1ae2-5bd8-4e8f-d828-e4809625ee28",
        "colab": {
          "base_uri": "https://localhost:8080/",
          "height": 301
        }
      },
      "execution_count": 97,
      "outputs": [
        {
          "output_type": "execute_result",
          "data": {
            "text/plain": [
              "<matplotlib.axes._subplots.AxesSubplot at 0x7f4cdf6f62e0>"
            ]
          },
          "metadata": {},
          "execution_count": 97
        },
        {
          "output_type": "display_data",
          "data": {
            "text/plain": [
              "<Figure size 432x288 with 1 Axes>"
            ],
            "image/png": "[encoded data removed]"
          },
          "metadata": {
            "needs_background": "light"
          }
        }
      ]
    },
    {
      "cell_type": "code",
      "source": [
        "# Evaluation metric: Correlation coefficient(R^2), average absolute error(AAE) and standard deviation\n",
        "# Correlation coefficient(R^2)\n",
        "r_2 = r2_score(list(df[\"y_real\"]), list(df[\"y_pred\"]))\n",
        "print(\"In testing dataset: GNN:r2 = {}\".format(r_2))\n",
        "\n",
        "# Average absolute error(AAE)\n",
        "aae = sum(abs(df[\"y_real\"] - df[\"y_pred\"])) / len(df[\"y_real\"])\n",
        "print(\"In testing dataset: GNN: aae = {}\".format(aae))\n",
        "\n",
        "std = statistics.stdev(list(df[\"y_pred\"]))\n",
        "print(\"In testing dataset: GNN：se = {}\".format(std / math.sqrt(std)))"
      ],
      "metadata": {
        "colab": {
          "base_uri": "https://localhost:8080/"
        },
        "id": "Rk7NUBD359er",
        "outputId": "5a1f81da-25eb-4aa2-d383-a6536c4db5da"
      },
      "execution_count": 98,
      "outputs": [
        {
          "output_type": "stream",
          "name": "stdout",
          "text": [
            "In testing dataset: GNN:r2 = 0.7710042457445009\n",
            "In testing dataset: GNN: aae = 0.6604861833435376\n",
            "In testing dataset: GNN：se = 1.4405038757816089\n"
          ]
        }
      ]
    },
    {
      "cell_type": "code",
      "source": [
        "from sklearn.metrics import r2_score\n",
        "\n",
        "# Baseline: ESOL\n",
        "df_ESOL = pd.DataFrame()\n",
        "df = pd.read_csv(\"/content/esol/raw/delaney-processed.csv\")\n",
        "df_ESOL[\"y_real\"] = df[\"measured log solubility in mols per litre\"]\n",
        "df_ESOL[\"y_pred\"] = df[\"ESOL predicted log solubility in mols per litre\"]\n",
        "\n",
        "df = pd.DataFrame()\n",
        "df[\"y_real\"] = df_ESOL[\"y_real\"].iloc[902:]\n",
        "df[\"y_pred\"] = df_ESOL[\"y_pred\"].iloc[902:]\n",
        "\n",
        "plt = sns.scatterplot(data=df, x=\"y_real\", y=\"y_pred\")\n",
        "plt.set(xlim=(-7, 2))\n",
        "plt.set(ylim=(-7, 2))\n",
        "plt"
      ],
      "metadata": {
        "colab": {
          "base_uri": "https://localhost:8080/",
          "height": 301
        },
        "id": "2u3KcQwvk-1X",
        "outputId": "acf8aa72-44ab-4998-f066-f9e7ee1ecac9"
      },
      "execution_count": 99,
      "outputs": [
        {
          "output_type": "execute_result",
          "data": {
            "text/plain": [
              "<matplotlib.axes._subplots.AxesSubplot at 0x7f4cdf404e50>"
            ]
          },
          "metadata": {},
          "execution_count": 99
        },
        {
          "output_type": "display_data",
          "data": {
            "text/plain": [
              "<Figure size 432x288 with 1 Axes>"
            ],
            "image/png": "[encoded data removed]"
          },
          "metadata": {
            "needs_background": "light"
          }
        }
      ]
    },
    {
      "cell_type": "code",
      "source": [
        "# Evaluation metric: Correlation coefficient(R^2), average absolute error(AAE) and standard deviation\n",
        "# Correlation coefficient(R^2)\n",
        "r_2 = r2_score(list(df[\"y_real\"]), list(df[\"y_pred\"]))\n",
        "print(\"In testing dataset: ESOL:r2 = {}\".format(r_2))\n",
        "\n",
        "# Average absolute error(AAE)\n",
        "aae = sum(abs(df[\"y_real\"] - df[\"y_pred\"])) / len(df[\"y_real\"])\n",
        "print(\"In testing dataset: ESOL: aae = {}\".format(aae))\n",
        "\n",
        "std = statistics.stdev(list(df[\"y_pred\"]))\n",
        "print(\"In testing dataset: ESOL：se = {}\".format(std / math.sqrt(std)))"
      ],
      "metadata": {
        "colab": {
          "base_uri": "https://localhost:8080/"
        },
        "id": "-qRtLPqz5KYS",
        "outputId": "c6d579f0-c9fa-4a30-b198-325fe1dc5d03"
      },
      "execution_count": 100,
      "outputs": [
        {
          "output_type": "stream",
          "name": "stdout",
          "text": [
            "In testing dataset: ESOL:r2 = 0.7839834529021221\n",
            "In testing dataset: ESOL: aae = 0.7403274336283189\n",
            "In testing dataset: ESOL：se = 1.2912999118658077\n"
          ]
        }
      ]
    }
  ]
}